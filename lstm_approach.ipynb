{
 "cells": [
  {
   "cell_type": "code",
   "execution_count": 13,
   "metadata": {
    "collapsed": false
   },
   "outputs": [],
   "source": [
    "import numpy as np\n",
    "import pandas as pd\n",
    "import matplotlib.pyplot as plt\n",
    "import tabulate\n",
    "import keras\n",
    "from time import time"
   ]
  },
  {
   "cell_type": "code",
   "execution_count": 5,
   "metadata": {
    "collapsed": false
   },
   "outputs": [
    {
     "name": "stdout",
     "output_type": "stream",
     "text": [
      "train size: (114539, 18)\n",
      "test size: (39420, 17)\n"
     ]
    }
   ],
   "source": [
    "train = pd.read_csv('Train.csv')\n",
    "test = pd.read_csv('Test.csv')\n",
    "print \"train size:\", train.shape\n",
    "print \"test size:\", test.shape\n",
    "\n",
    "train_indices = train.index\n",
    "train_labels = train.Footfall\n",
    "columns = train.columns\n",
    "data = pd.concat([train[columns[:-1]],test],ignore_index=True)"
   ]
  },
  {
   "cell_type": "markdown",
   "metadata": {},
   "source": [
    "### data cleaning\n",
    "- datatypes\n",
    "- missing values\n",
    "- zero-variance variables\n",
    "- transformation (rescale, normalization, ...)"
   ]
  },
  {
   "cell_type": "code",
   "execution_count": 9,
   "metadata": {
    "collapsed": false
   },
   "outputs": [
    {
     "name": "stdout",
     "output_type": "stream",
     "text": [
      "Label                         dtype      # unique values    # missing values (%)\n",
      "----------------------------  -------  -----------------  ----------------------\n",
      "ID                            int64               153959                    0\n",
      "Park_ID                       int64                   28                    0\n",
      "Date                          object                5600                    0\n",
      "Direction_Of_Wind             float64                360                    3.52\n",
      "Average_Breeze_Speed          float64                188                    3.52\n",
      "Max_Breeze_Speed              float64                 30                    3.53\n",
      "Min_Breeze_Speed              float64                 19                    3.52\n",
      "Var1                          float64                493                    7.28\n",
      "Average_Atmospheric_Pressure  float64                178                   34.66\n",
      "Max_Atmospheric_Pressure      float64                176                   34.66\n",
      "Min_Atmospheric_Pressure      float64                189                   34.66\n",
      "Min_Ambient_Pollution         float64                 87                   26.83\n",
      "Max_Ambient_Pollution         float64                 88                   26.83\n",
      "Average_Moisture_In_Park      float64                 72                    0.05\n",
      "Max_Moisture_In_Park          float64                 59                    0.05\n",
      "Min_Moisture_In_Park          float64                 86                    0.05\n",
      "Location_Type                 int64                    4                    0\n"
     ]
    }
   ],
   "source": [
    "# methods\n",
    "def validate_data_set(df):\n",
    "    \"\"\"\n",
    "    checks the validity variables of a dataset. \n",
    "    It looks for datatypes, number of unique values and number of missing values\n",
    "    df (pandas.dataframe): dataset\n",
    "    \"\"\"\n",
    "    s = []\n",
    "    for col in df.columns:\n",
    "        s.append((col,df[col].dtype,len(pd.unique(df[col])),\n",
    "                  round(100*df[df[col].isnull()].shape[0]/float(df.shape[0]),2)))\n",
    "    print tabulate.tabulate(s,['Label','dtype','# unique values','# missing values (%)','Var'])\n",
    "    \n",
    "def string2date(x):\n",
    "    \"\"\"\n",
    "    convert string date of format dd-mm-yyyy to datetime format\n",
    "    input:\n",
    "    x (str): date\n",
    "    output:\n",
    "    y (datetime)\n",
    "    \"\"\"\n",
    "    return pd.datetime.strptime(x,'%d-%m-%Y').date()\n",
    "\n",
    "def impute_nans(x,method):\n",
    "    \"\"\"\n",
    "    replace NaN with the mean, median or most_frequent\n",
    "    input:\n",
    "    x (pandas.Series): array to be imputed\n",
    "    method {'mean','median','most_frequent'}: method to be used in the imputation. Note that\n",
    "    most_frequent works on categorical only\n",
    "    output:\n",
    "    y1 (pandas.Series): array with NaNs replaced by the method\n",
    "    y2 (float,int,str): the value used to replace NaNs\n",
    "    \"\"\"\n",
    "    if method == 'mean':\n",
    "        val = x.mean()\n",
    "        x = x.fillna(val)\n",
    "    if method == 'median':\n",
    "        val = x.median()\n",
    "        x = x.fillna(val)\n",
    "    if method == 'most_frequent':\n",
    "        val = x.mode().values[0]\n",
    "        x = x.fillna(val)\n",
    "    return x,val\n",
    "\n",
    "validate_data_set(data)\n"
   ]
  },
  {
   "cell_type": "code",
   "execution_count": 14,
   "metadata": {
    "collapsed": false
   },
   "outputs": [
    {
     "name": "stdout",
     "output_type": "stream",
     "text": [
      "Processing time: 9.98\n"
     ]
    }
   ],
   "source": [
    "# datatypes\n",
    "tic = time()\n",
    "# convert date in datatime datatype\n",
    "data['Date'] = data.Date.apply(lambda x:string2date(x))\n",
    "\n",
    "# treat missing values\n",
    "methods = {\n",
    "    'median':['Direction_Of_Wind','Average_Breeze_Speed','Max_Breeze_Speed','Min_Breeze_Speed',\n",
    "              'Var1','Min_Ambient_Pollution','Max_Ambient_Pollution','Average_Moisture_In_Park',\n",
    "              'Max_Moisture_In_Park','Min_Moisture_In_Park'],\n",
    "    'mean':['Average_Atmospheric_Pressure','Max_Atmospheric_Pressure','Min_Atmospheric_Pressure',\n",
    "            ]\n",
    "}\n",
    "nan_substitutes = {}\n",
    "park_ids = sorted(pd.unique(data.Park_ID))\n",
    "for k,v in methods.iteritems():\n",
    "    for pid in park_ids:\n",
    "        nan_substitutes[pid] = {}\n",
    "        indices = data[data.Park_ID==pid].index\n",
    "        for col in v:\n",
    "            if sum(~(data.loc[indices,col].isnull()))>0:\n",
    "                imputes = impute_nans(data.loc[indices,col],k)\n",
    "                data.loc[indices,col] = imputes[0]\n",
    "                nan_substitutes[pid][col] = imputes[1]\n",
    "            else:\n",
    "                data.loc[indices,col] = 0\n",
    "                nan_substitutes[pid][col] = 0\n",
    "print \"Processing time:\", round(time()-tic,2)"
   ]
  },
  {
   "cell_type": "code",
   "execution_count": null,
   "metadata": {
    "collapsed": true
   },
   "outputs": [],
   "source": []
  }
 ],
 "metadata": {
  "kernelspec": {
   "display_name": "Python 2",
   "language": "python",
   "name": "python2"
  },
  "language_info": {
   "codemirror_mode": {
    "name": "ipython",
    "version": 2
   },
   "file_extension": ".py",
   "mimetype": "text/x-python",
   "name": "python",
   "nbconvert_exporter": "python",
   "pygments_lexer": "ipython2",
   "version": "2.7.13"
  }
 },
 "nbformat": 4,
 "nbformat_minor": 0
}
